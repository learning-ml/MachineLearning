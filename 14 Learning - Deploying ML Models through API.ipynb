{
 "cells": [
  {
   "cell_type": "markdown",
   "metadata": {},
   "source": [
    "# Deploying ML Models through API"
   ]
  },
  {
   "cell_type": "markdown",
   "metadata": {},
   "source": [
    "## Train and Save Model"
   ]
  },
  {
   "cell_type": "code",
   "execution_count": 1,
   "metadata": {},
   "outputs": [],
   "source": [
    "import numpy as np \n",
    "import pandas as pd \n",
    "import sklearn.utils as skutils\n",
    "import sklearn.model_selection as skmodelsel\n",
    "import matplotlib.pyplot as plt\n",
    "from mpl_toolkits.mplot3d import Axes3D\n",
    "from sklearn.preprocessing import StandardScaler,PolynomialFeatures\n",
    "from sklearn.linear_model import SGDRegressor\n",
    "import requests\n",
    "import io\n",
    "url=\"https://manmohan291.s3.ap-south-1.amazonaws.com/LinearRegressionDS/CylinderVolumeData.zip\"\n",
    "s=requests.get(url).content\n",
    "df=pd.read_csv(io.BytesIO(s),compression='zip')\n",
    "\n",
    "df = skutils.shuffle(df)\n",
    "dfTrain, dfValid = skmodelsel.train_test_split(df, test_size=0.2)\n",
    "\n",
    "df_Features=dfTrain.loc[:,['radius','height']]\n",
    "df_Label=dfTrain.loc[:,['volume']]\n",
    "X=df_Features.values\n",
    "Y=df_Label.values\n",
    "\n",
    "degree=3\n",
    "\n",
    "#Preprocessing\n",
    "SS=StandardScaler()\n",
    "XS=SS.fit_transform(X)\n",
    "PF=PolynomialFeatures(degree)\n",
    "XS_P=PF.fit_transform(XS)\n",
    "#Train\n",
    "RegObj=SGDRegressor(learning_rate='adaptive',eta0=0.1,max_iter=1000,alpha=0).fit(XS_P,Y.flatten())\n",
    "\n",
    "#Save\n",
    "import pickle\n",
    "with open('my_ml_model.pkl', 'wb') as f:\n",
    "    data={\"regobj\":RegObj,\"SS\":SS,\"PF\":PF}\n",
    "    pickle.dump(data, f, pickle.HIGHEST_PROTOCOL)"
   ]
  },
  {
   "cell_type": "markdown",
   "metadata": {},
   "source": [
    "# Load Model"
   ]
  },
  {
   "cell_type": "code",
   "execution_count": 2,
   "metadata": {},
   "outputs": [],
   "source": [
    "from os import system\n",
    "import numpy as np\n",
    "import requests\n",
    "import pandas as pd\n",
    "import matplotlib.pyplot as plt\n",
    "from sklearn.preprocessing import MinMaxScaler\n",
    "from flask import Flask"
   ]
  },
  {
   "cell_type": "code",
   "execution_count": 3,
   "metadata": {},
   "outputs": [],
   "source": [
    "import pickle\n",
    "from sklearn.preprocessing import PolynomialFeatures"
   ]
  },
  {
   "cell_type": "code",
   "execution_count": 4,
   "metadata": {},
   "outputs": [],
   "source": [
    "with open('my_ml_model.pkl', 'rb') as f:\n",
    "    data= pickle.load(f)\n",
    "RegObj=data['regobj']\n",
    "SS=data['SS']\n",
    "PF=data['PF']"
   ]
  },
  {
   "cell_type": "markdown",
   "metadata": {},
   "source": [
    "# Host Model"
   ]
  },
  {
   "cell_type": "code",
   "execution_count": 5,
   "metadata": {},
   "outputs": [
    {
     "name": "stdout",
     "output_type": "stream",
     "text": [
      "[19863087.12]\n"
     ]
    }
   ],
   "source": [
    "#Predict\n",
    "pX=[[189,177]]\n",
    "pXS=SS.transform(pX)\n",
    "pXS_P=PF.transform(pXS)\n",
    "pY=RegObj.predict(pXS_P)\n",
    "pY=pY\n",
    "print(np.round(pY,2))"
   ]
  },
  {
   "cell_type": "code",
   "execution_count": 6,
   "metadata": {},
   "outputs": [
    {
     "name": "stdout",
     "output_type": "stream",
     "text": [
      " * Serving Flask app \"__main__\" (lazy loading)\n",
      " * Environment: production\n",
      "   WARNING: This is a development server. Do not use it in a production deployment.\n",
      "   Use a production WSGI server instead.\n",
      " * Debug mode: off\n"
     ]
    },
    {
     "name": "stderr",
     "output_type": "stream",
     "text": [
      " * Running on http://127.0.0.1:5000/ (Press CTRL+C to quit)\n",
      "127.0.0.1 - - [25/Jan/2020 15:50:53] \"\u001b[37mGET /volume/189/177 HTTP/1.1\u001b[0m\" 200 -\n"
     ]
    }
   ],
   "source": [
    "from flask import Flask \n",
    " \n",
    "app = Flask(__name__) # init Flask with current module as argument\n",
    "  \n",
    "# The route() function associates URL to function. \n",
    "@app.route('/') # ‘/’ URL is bound with hello_world() function. \n",
    "def Page1(): \n",
    "    return 'Welcome to Machine Learning APIs'\n",
    "\n",
    "\n",
    "@app.route('/volume/<int:radius>/<int:height>')  \n",
    "def Page2(radius,height): \n",
    "    X=np.array([[radius,height]])\n",
    "    XS=SS.transform(X)\n",
    "    pX=PF.transform(XS)\n",
    "    pY=RegObj.predict(pX)\n",
    "    htmlStr= \"<font color=nevy><br>Radius is \"+str(radius )\n",
    "    htmlStr=htmlStr+ \"<font color=nevy><br>Height is \"+str(height)\n",
    "    htmlStr=htmlStr+ \"<font color=red><br>Volume is \"+str(np.round(pY,2) )\n",
    "    return htmlStr\n",
    "\n",
    "\n",
    "\n",
    "# main function starts Application and keep it Running\n",
    "if __name__ == '__main__': \n",
    "    app.run()#host='0.0.0.0',port=\"5080\")"
   ]
  },
  {
   "cell_type": "markdown",
   "metadata": {},
   "source": [
    "# Run API URL"
   ]
  },
  {
   "cell_type": "markdown",
   "metadata": {},
   "source": [
    "http://127.0.0.1:5000/volume/189/177"
   ]
  },
  {
   "cell_type": "code",
   "execution_count": null,
   "metadata": {},
   "outputs": [],
   "source": []
  }
 ],
 "metadata": {
  "kernelspec": {
   "display_name": "Python 3",
   "language": "python",
   "name": "python3"
  },
  "language_info": {
   "codemirror_mode": {
    "name": "ipython",
    "version": 3
   },
   "file_extension": ".py",
   "mimetype": "text/x-python",
   "name": "python",
   "nbconvert_exporter": "python",
   "pygments_lexer": "ipython3",
   "version": "3.7.3"
  }
 },
 "nbformat": 4,
 "nbformat_minor": 2
}

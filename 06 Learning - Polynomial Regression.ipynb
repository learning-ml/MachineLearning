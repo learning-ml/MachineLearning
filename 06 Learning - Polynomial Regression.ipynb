{
 "cells": [
  {
   "cell_type": "markdown",
   "metadata": {
    "_uuid": "fbb83ab53f187857890b7bcd2a13603b7586651e"
   },
   "source": [
    "<h1>Polynomial Regression</h1>\n",
    "<p>\n",
    "Trying to fit 2D curve to data using Gradient Descent Algorithm\n",
    "    \n",
    "\n",
    "Polynomial regression is a form of regression analysis in which the relationship between the independent variable x and the dependent variable y is modelled as an nth degree polynomial.\n",
    "\n",
    "Although polynomial regression fits a **nonlinear model** to the data but estimation problem is still **\"linear\"**, in the sense that the regression function h(y. x) is linear in the unknown parameters (w) that are estimated from the data.\n",
    "\n",
    "Read more at https://towardsdatascience.com/polynomial-regression-bbe8b9d97491\n",
    "    "
   ]
  },
  {
   "cell_type": "markdown",
   "metadata": {},
   "source": [
    "<h2> Polynomial Hypothesis</h2>\n",
    "\n",
    "<p>\n",
    "$h(x) = w_0 + w_1 x + w_2 x^2 + w_3 x^3 + w_4 x^4 + w_5 x^5 + w_6 x^6 + w_7 x^7 + w_8 x^8$\n",
    "</p> "
   ]
  },
  {
   "cell_type": "markdown",
   "metadata": {},
   "source": [
    "<h3> Gradient Descent Algorithm </h3>\n",
    "<p>\n",
    "We start with assumpution equation of degree 8 (Called hypothesis) which can fit above data points.   \n",
    "<p>\n",
    "$h(x) = w_0 + w_1 x + w_2 x^2 + w_3 x^3 + w_4 x^4 + w_5 x^5 + w_6 x^6 + w_7 x^7 + w_8 x^8$\n",
    "</p> \n",
    "The two coefficients with initial guess (i.e. $w_0$, $w_1$...$w_n$) of $h(x)$ will be fed into the algorithm.\n",
    "Then Program will start from initial guess and then iterate steps to find the best fit.\n",
    "\n",
    "<p>\n",
    " Our objective is to minimize Loss.\n",
    "    <p>\n",
    " $ L(W)=   \\hat{Y}-Y$  Where  $\\hat{Y}=h(X)$\n",
    " </p>\n",
    "Since Loss can negative or postive, we need to minimize the absolute values ( OR Mean squared) Loss so we define Loss/Cost function as follows"
   ]
  },
  {
   "cell_type": "markdown",
   "metadata": {},
   "source": [
    "<h2>Cost/Loss Function</h2>\n",
    "We can measure the accuracy of our hypothesis function by using a cost function. This takes an average difference (actually a fancier version of an average) of all the results of the hypothesis with inputs from x's and the actual output y's.\n",
    "\n",
    "$L(W) = \\dfrac {1}{2n} \\displaystyle \\sum _{i=1}^n \\left ( \\hat{Y}_{i}- Y_{i} \\right)^2$\n",
    "<p>\n",
    "$L(w_0, w_1,...w_n)  = \\dfrac {1}{2n} \\displaystyle \\sum _{i=1}^n \\left (h(x_{i}) - y_{i} \\right)^2$\n",
    "\n",
    "This Loss/cost function is also called the \"Squared error function\", or \"Mean squared error\". The mean is halved $\\left(\\frac{1}{2}\\right)$as a convenience for the computation of the gradient descent, as the derivative term of the square function will cancel out the $\\frac{1}{2}$  term."
   ]
  },
  {
   "cell_type": "markdown",
   "metadata": {},
   "source": [
    "We minimize Loss by taking the derivative (the tangential line to a function) of our cost/loss function. The slope of the tangent is the derivative at that point and it will give us a direction to move towards. We make steps down the cost/loss function in the direction with the steepest descent. The size of each step is determined by the parameter α($alpha$), which is called the learning rate. The direction in which the step is taken is determined by the partial derivative of $L(w_0,w_1,..,w_n)$. \n",
    "\n",
    "The gradient descent algorithm is:\n",
    "\n",
    "repeat until convergence:<p>\n",
    "{<p>\n",
    "&nbsp;&nbsp;    $w_0 := w_0 - \\alpha \\frac{\\partial}{\\partial w_0} L(w_0, w_1,....,w_n) $<p>\n",
    "&nbsp;&nbsp;    $w_1 := w_1 - \\alpha \\frac{\\partial}{\\partial w_1} L(w_0, w_1,....,w_n) $<p>\n",
    "&nbsp;&nbsp;    ......<p>\n",
    "&nbsp;&nbsp;    $w_n := w_n - \\alpha \\frac{\\partial}{\\partial w_n} L(w_0, w_n,....,w_n) $<p>\n",
    "}\n"
   ]
  },
  {
   "cell_type": "code",
   "execution_count": 1,
   "metadata": {
    "_cell_guid": "b1076dfc-b9ad-4769-8c92-a6c4dae69d19",
    "_uuid": "8f2839f25d086af736a60e9eeb907d3b93b6e0e5"
   },
   "outputs": [],
   "source": [
    "import numpy as np \n",
    "import pandas as pd \n",
    "import matplotlib.pyplot as plt\n"
   ]
  },
  {
   "cell_type": "markdown",
   "metadata": {
    "_uuid": "48af0c24b890335a0ed6374004138ce723b8448d"
   },
   "source": [
    "<H1>Read Data from CSV"
   ]
  },
  {
   "cell_type": "code",
   "execution_count": 2,
   "metadata": {},
   "outputs": [
    {
     "data": {
      "text/html": [
       "<div>\n",
       "<style scoped>\n",
       "    .dataframe tbody tr th:only-of-type {\n",
       "        vertical-align: middle;\n",
       "    }\n",
       "\n",
       "    .dataframe tbody tr th {\n",
       "        vertical-align: top;\n",
       "    }\n",
       "\n",
       "    .dataframe thead th {\n",
       "        text-align: right;\n",
       "    }\n",
       "</style>\n",
       "<table border=\"1\" class=\"dataframe\">\n",
       "  <thead>\n",
       "    <tr style=\"text-align: right;\">\n",
       "      <th></th>\n",
       "      <th>X</th>\n",
       "      <th>Y</th>\n",
       "    </tr>\n",
       "  </thead>\n",
       "  <tbody>\n",
       "    <tr>\n",
       "      <td>0</td>\n",
       "      <td>-15.936758</td>\n",
       "      <td>2.134311</td>\n",
       "    </tr>\n",
       "    <tr>\n",
       "      <td>1</td>\n",
       "      <td>-29.152979</td>\n",
       "      <td>1.173257</td>\n",
       "    </tr>\n",
       "    <tr>\n",
       "      <td>2</td>\n",
       "      <td>36.189549</td>\n",
       "      <td>34.359109</td>\n",
       "    </tr>\n",
       "    <tr>\n",
       "      <td>3</td>\n",
       "      <td>37.492187</td>\n",
       "      <td>36.837955</td>\n",
       "    </tr>\n",
       "    <tr>\n",
       "      <td>4</td>\n",
       "      <td>-48.058829</td>\n",
       "      <td>2.808965</td>\n",
       "    </tr>\n",
       "  </tbody>\n",
       "</table>\n",
       "</div>"
      ],
      "text/plain": [
       "           X          Y\n",
       "0 -15.936758   2.134311\n",
       "1 -29.152979   1.173257\n",
       "2  36.189549  34.359109\n",
       "3  37.492187  36.837955\n",
       "4 -48.058829   2.808965"
      ]
     },
     "execution_count": 2,
     "metadata": {},
     "output_type": "execute_result"
    }
   ],
   "source": [
    "\n",
    "import requests\n",
    "import io\n",
    "url=\"https://manmohan291.s3.ap-south-1.amazonaws.com/LinearRegressionDS/LinearRegressionTrainingData.csv\"\n",
    "s=requests.get(url).content\n",
    "dfTrain=pd.read_csv(io.StringIO(s.decode('utf-8')))\n",
    "dfTrain.head()"
   ]
  },
  {
   "cell_type": "markdown",
   "metadata": {},
   "source": [
    "<h5> Visualize Data"
   ]
  },
  {
   "cell_type": "code",
   "execution_count": 3,
   "metadata": {},
   "outputs": [
    {
     "data": {
      "text/plain": [
       "<matplotlib.axes._subplots.AxesSubplot at 0x66cc1fa470>"
      ]
     },
     "execution_count": 3,
     "metadata": {},
     "output_type": "execute_result"
    },
    {
     "data": {
      "image/png": "[encoded data removed]",
      "text/plain": [
       "<Figure size 432x288 with 1 Axes>"
      ]
     },
     "metadata": {
      "needs_background": "light"
     },
     "output_type": "display_data"
    }
   ],
   "source": [
    "dfTrain.plot(x='X',y='Y',kind='scatter')"
   ]
  },
  {
   "cell_type": "markdown",
   "metadata": {},
   "source": [
    "<h2>Extract Input Feature to <b>X </b>and Label to <b>y</b>"
   ]
  },
  {
   "cell_type": "code",
   "execution_count": 4,
   "metadata": {},
   "outputs": [],
   "source": [
    "X=dfTrain.values[:,:-1]  #Except Last Column\n",
    "Y=dfTrain.values[:,-1:] #Last Column\n"
   ]
  },
  {
   "cell_type": "markdown",
   "metadata": {},
   "source": [
    "<H5>Improve RMSE by adding polynomial features and Normalizing Input Data</h5>\n",
    "    <p> Try without Normalization, you will find it difficult to train and converge."
   ]
  },
  {
   "cell_type": "markdown",
   "metadata": {},
   "source": [
    "<h5>Normalize Input\n",
    "    </h2>\n",
    "    "
   ]
  },
  {
   "cell_type": "code",
   "execution_count": 5,
   "metadata": {},
   "outputs": [],
   "source": [
    "SMean=np.mean(X)\n",
    "SDev=np.std(X)\n",
    "def NormalizeInput(X,SMean,SDev):   \n",
    "    XNorm=(X-SMean)/SDev\n",
    "    return XNorm"
   ]
  },
  {
   "cell_type": "code",
   "execution_count": 6,
   "metadata": {},
   "outputs": [],
   "source": [
    "XNorm=NormalizeInput(X,SMean,SDev)"
   ]
  },
  {
   "cell_type": "markdown",
   "metadata": {},
   "source": [
    "<h5>Add Polynomial Features\n",
    "    </h2>"
   ]
  },
  {
   "cell_type": "code",
   "execution_count": 7,
   "metadata": {},
   "outputs": [],
   "source": [
    "def mapFeature(X,degree):\n",
    "    \n",
    "    sz=X.shape[1]\n",
    "    if (sz==2):\n",
    "        sz=(degree+1)*(degree+2)/2\n",
    "        sz=int(sz)\n",
    "    else:\n",
    "         sz=degree+1\n",
    "    out=np.ones((X.shape[0],sz))     #Adding Bias W0\n",
    "\n",
    "    sz=X.shape[1]\n",
    "    if (sz==2):\n",
    "        X1=X[:, 0:1]\n",
    "        X2=X[:, 1:2]\n",
    "        col=1\n",
    "        for i in range(1,degree+1):        \n",
    "            for j in range(0,i+1):\n",
    "                out[:,col:col+1]= np.multiply(np.power(X1,i-j),np.power(X2,j))    \n",
    "                col+=1\n",
    "        return out\n",
    "    else:\n",
    "        for i in range(1,degree+1):        \n",
    "            out[:,i:i+1]= np.power(X,i)\n",
    "    \n",
    "    return out"
   ]
  },
  {
   "cell_type": "code",
   "execution_count": 8,
   "metadata": {},
   "outputs": [],
   "source": [
    "degree=8\n",
    "inputX=mapFeature(XNorm,degree)  "
   ]
  },
  {
   "cell_type": "markdown",
   "metadata": {},
   "source": [
    "<h1> Training"
   ]
  },
  {
   "cell_type": "markdown",
   "metadata": {},
   "source": [
    "<h5> Initialization"
   ]
  },
  {
   "cell_type": "code",
   "execution_count": 9,
   "metadata": {},
   "outputs": [],
   "source": [
    "batchSize=len(Y)         #no of Examples\n",
    "iterations = 1000\n",
    "alpha = 0.01\n",
    "featureCount=inputX.shape[1] \n",
    "weights=np.zeros((featureCount, 1)) #initialize Weight Paramters\n",
    "lossList=np.zeros((iterations,1),dtype=float)  #for plotting loss curve"
   ]
  },
  {
   "cell_type": "markdown",
   "metadata": {},
   "source": [
    "<h5> Gradient Descent Updates"
   ]
  },
  {
   "cell_type": "code",
   "execution_count": 10,
   "metadata": {},
   "outputs": [],
   "source": [
    "\n",
    "for k in range(iterations):\n",
    "    #Hypothesis\n",
    "    hypothesis=np.matmul( inputX,weights)           \n",
    "    \n",
    "    #Loss\n",
    "    loss=hypothesis-Y  \n",
    "    \n",
    "    \n",
    "    # derivative\n",
    "    dW=np.matmul(inputX.T,loss)  #Derivative\n",
    "   \n",
    "    #gradient Update\n",
    "    weights=weights - (alpha/batchSize)*dW              \n",
    "    \n",
    "    #Compute Loss for Plotting\n",
    "    newLoss=np.matmul( inputX,weights)-Y\n",
    "    newLossSqr=np.multiply(newLoss,newLoss)\n",
    "    lossList[k]=(1.0/(2.0*batchSize))* np.sum(newLossSqr)\n"
   ]
  },
  {
   "cell_type": "markdown",
   "metadata": {},
   "source": [
    "<h1>Plot Loss Curve"
   ]
  },
  {
   "cell_type": "code",
   "execution_count": 11,
   "metadata": {},
   "outputs": [
    {
     "data": {
      "text/plain": [
       "[<matplotlib.lines.Line2D at 0x66cc5e6ef0>]"
      ]
     },
     "execution_count": 11,
     "metadata": {},
     "output_type": "execute_result"
    },
    {
     "data": {
      "image/png": "[encoded data removed]",
      "text/plain": [
       "<Figure size 432x288 with 1 Axes>"
      ]
     },
     "metadata": {
      "needs_background": "light"
     },
     "output_type": "display_data"
    }
   ],
   "source": [
    "plt.plot(lossList,color='r')"
   ]
  },
  {
   "cell_type": "markdown",
   "metadata": {},
   "source": [
    "<h1> Prediction/RMSE Evaluation"
   ]
  },
  {
   "cell_type": "code",
   "execution_count": 12,
   "metadata": {},
   "outputs": [],
   "source": [
    "def predict(X,weights,SMean,SDev,degree):\n",
    "    XNorm=NormalizeInput(X,SMean,SDev)\n",
    "    inputX=mapFeature(XNorm,degree)\n",
    "    PY=np.matmul(inputX, weights)\n",
    "    return PY"
   ]
  },
  {
   "cell_type": "code",
   "execution_count": 13,
   "metadata": {},
   "outputs": [],
   "source": [
    "def getRMSE(aY,pY):\n",
    "    Error=aY- pY\n",
    "    ErrorSqr=Error**2\n",
    "    MSE=ErrorSqr.mean()\n",
    "    RMSE=np.sqrt(MSE)\n",
    "    return RMSE"
   ]
  },
  {
   "cell_type": "markdown",
   "metadata": {},
   "source": [
    "<h5>RMSE on Training Data"
   ]
  },
  {
   "cell_type": "code",
   "execution_count": 15,
   "metadata": {},
   "outputs": [
    {
     "name": "stdout",
     "output_type": "stream",
     "text": [
      "1.1512790310832992\n"
     ]
    }
   ],
   "source": [
    "pY=predict(X, weights,SMean,SDev,degree)  # Predict with bias feature added\n",
    "print(getRMSE(Y, pY))"
   ]
  },
  {
   "cell_type": "markdown",
   "metadata": {},
   "source": [
    "<h1>Plot Hypothesis"
   ]
  },
  {
   "cell_type": "code",
   "execution_count": 16,
   "metadata": {},
   "outputs": [
    {
     "data": {
      "text/plain": [
       "[<matplotlib.lines.Line2D at 0x66cc5f22b0>]"
      ]
     },
     "execution_count": 16,
     "metadata": {},
     "output_type": "execute_result"
    },
    {
     "data": {
      "image/png": "[encoded data removed]",
      "text/plain": [
       "<Figure size 432x288 with 1 Axes>"
      ]
     },
     "metadata": {
      "needs_background": "light"
     },
     "output_type": "display_data"
    }
   ],
   "source": [
    "x_min, x_max = X[:, 0].min() - 5, X[:, 0].max() + 5\n",
    "curveX = np.linspace(x_min, x_max, 100)\n",
    "curveX.shape=(len(curveX),1) \n",
    "curveY=predict(curveX, weights,SMean,SDev,degree)  # Predict with bias feature added\n",
    "plt.scatter(X,Y)\n",
    "plt.plot(curveX, curveY,color='r')"
   ]
  },
  {
   "cell_type": "code",
   "execution_count": null,
   "metadata": {},
   "outputs": [],
   "source": []
  }
 ],
 "metadata": {
  "kernelspec": {
   "display_name": "Python 3",
   "language": "python",
   "name": "python3"
  },
  "language_info": {
   "codemirror_mode": {
    "name": "ipython",
    "version": 3
   },
   "file_extension": ".py",
   "mimetype": "text/x-python",
   "name": "python",
   "nbconvert_exporter": "python",
   "pygments_lexer": "ipython3",
   "version": "3.7.3"
  }
 },
 "nbformat": 4,
 "nbformat_minor": 1
}

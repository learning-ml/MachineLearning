{
 "cells": [
  {
   "cell_type": "markdown",
   "metadata": {
    "_uuid": "fbb83ab53f187857890b7bcd2a13603b7586651e"
   },
   "source": [
    "# Learning Regression with Regularization and Cross Validation\n",
    "Regularized Linear Regression using Gradient Descent Algorithm\n",
    "\n",
    "Read more at\n",
    "\n",
    "https://towardsdatascience.com/regularization-in-machine-learning-76441ddcf99a"
   ]
  },
  {
   "cell_type": "markdown",
   "metadata": {},
   "source": [
    "<h3> Gradient Descent Algorithm with Regularization </h3>\n",
    "<p>\n",
    "We start with assumpution equation (Called hypothesis) which can fit above data points.   \n",
    "<p>\n",
    "$h(x) = w_0 + w_1 x$\n",
    "</p> \n",
    "The two coefficients with initial guess (i.e. $w_0$ and $w_1$) of $h(x)$ will be fed into the algorithm.\n",
    "Then Program will start from initial guess and then iterate steps to find the best fit.\n",
    "\n",
    "<p>\n",
    " Our objective is to minimize Loss.\n",
    "    <p>\n",
    " $ L(W)=   \\hat{Y}-Y$  Where  $\\hat{Y}=h(X)$\n",
    " </p>\n",
    "Since Loss can negative or postive, we need to minimize the absolute values ( OR Mean squared) Loss so we define Loss/Cost function as follows"
   ]
  },
  {
   "cell_type": "markdown",
   "metadata": {},
   "source": [
    "<h3>Cost/Loss Function with Regularization</h3>\n",
    "We can measure the accuracy of our hypothesis function by using a cost function. This takes an average difference (actually a fancier version of an average) of all the results of the hypothesis with inputs from x's and the actual output y's.\n",
    "\n",
    "$L(W) = \\dfrac {1}{2n} \\displaystyle \\sum _{i=1}^n \\left ( \\hat{Y}_{i}- Y_{i} \\right)^2+\\frac{1}{n} \\frac{\\lambda}{2} \\sum_{j} w_{j}^{2}$\n",
    "<p>\n",
    "$L(w_0, w_1)  = \\dfrac {1}{2n} \\displaystyle \\sum _{i=1}^n \\left (h(x_{i}) - y_{i} \\right)^2 +\\frac{1}{n} \\frac{\\lambda}{2}  \\sum_{j} w_{j}^{2}$ \n",
    "\n",
    "This Loss/cost function is also called the \"Squared error function\", or \"Mean squared error\". The mean is halved $\\left(\\frac{1}{2}\\right)$as a convenience for the computation of the gradient descent, as the derivative term of the square function will cancel out the $\\frac{1}{2}$  term."
   ]
  },
  {
   "cell_type": "markdown",
   "metadata": {},
   "source": [
    "We minimize Loss by taking the derivative (the tangential line to a function) of our cost/loss function. The slope of the tangent is the derivative at that point and it will give us a direction to move towards. We make steps down the cost/loss function in the direction with the steepest descent. The size of each step is determined by the parameter α($alpha$), which is called the learning rate. The direction in which the step is taken is determined by the partial derivative of $L(w_0,w_1)$. \n",
    "\n",
    "The gradient descent algorithm is:\n",
    "\n",
    "repeat until convergence:<p>\n",
    "{<p>\n",
    "&nbsp;&nbsp;    $w_0 := w_0 - \\alpha \\frac{\\partial}{\\partial w_0} L(w_0, w_1) + \\frac{\\lambda}{n} \\sum_{j} w_{j}$<p>\n",
    "&nbsp;&nbsp;    $w_1 := w_1 - \\alpha \\frac{\\partial}{\\partial w_1} L(w_0, w_1) + \\frac{\\lambda}{n} \\sum_{j} w_{j}$<p>\n",
    "}\n",
    "\n",
    "OR<p>\n",
    "$\\begin{align*} \\text{repeat until convergence: } \\lbrace & \\newline w_0 := & w_0 - \\alpha \\frac{1}{n} \\sum\\limits_{i=1}^{n}(h_w(x_{i}) - y_{i}) + \\frac{\\lambda}{n} \\sum_{j} w_{j}\\newline w_1 := & w_1 - \\alpha \\frac{1}{n} \\sum\\limits_{i=1}^{n}\\left((h_w(x_{i}) - y_{i}) x_{i}\\right) + \\frac{\\lambda}{n} \\sum_{j} w_{j}\\newline \\rbrace& \\end{align*}$"
   ]
  },
  {
   "cell_type": "code",
   "execution_count": 1,
   "metadata": {
    "_cell_guid": "b1076dfc-b9ad-4769-8c92-a6c4dae69d19",
    "_uuid": "8f2839f25d086af736a60e9eeb907d3b93b6e0e5"
   },
   "outputs": [],
   "source": [
    "import numpy as np\n",
    "import pandas as pd \n",
    "import matplotlib.pyplot as plt\n"
   ]
  },
  {
   "cell_type": "markdown",
   "metadata": {},
   "source": [
    "## Data"
   ]
  },
  {
   "cell_type": "code",
   "execution_count": 37,
   "metadata": {},
   "outputs": [],
   "source": [
    "X=np.array([[-15.94,-29.15,36.19,7.49,-48.06,-8.94,15.31,\n",
    "             -34.71,1.39]]).T\n",
    "Y=np.array([[2.13,1.17,12.36,6.84,2.81,6.12,14.71,\n",
    "             2.61,3.74]]).T\n"
   ]
  },
  {
   "cell_type": "markdown",
   "metadata": {},
   "source": [
    "# Helper Functions"
   ]
  },
  {
   "cell_type": "code",
   "execution_count": 38,
   "metadata": {},
   "outputs": [],
   "source": [
    "from sklearn.preprocessing import PolynomialFeatures\n",
    "\n",
    "def mapFeature(X,degree):\n",
    "    out= PolynomialFeatures(degree=degree).fit_transform(X)\n",
    "    return out"
   ]
  },
  {
   "cell_type": "code",
   "execution_count": 39,
   "metadata": {},
   "outputs": [],
   "source": [
    "from sklearn.preprocessing import StandardScaler\n",
    "\n",
    "def featureNormalize(X):\n",
    "    scaler=StandardScaler().fit(X)\n",
    "    X_norm = scaler.transform(X)\n",
    "    return X_norm, scaler"
   ]
  },
  {
   "cell_type": "code",
   "execution_count": 40,
   "metadata": {},
   "outputs": [],
   "source": [
    "def computeCost(weights,X,Y,regLambda):\n",
    "    n = X.shape[0]\n",
    "    weights.shape = (X.shape[1],1)\n",
    "\n",
    "    Yhat=np.matmul( X,weights)                      #Hypothesis\n",
    "    err=Yhat-Y\n",
    "    errSqr=err**2\n",
    "    J=(1.0/(2.0*n))* np.sum(errSqr)\n",
    "    \n",
    "    \n",
    "    regularized_weights=np.concatenate((np.zeros((1,1)) , weights[1:,:]),axis=0)\n",
    "    J=J +regLambda* (1.0/(2.0*n)) *(np.sum(regularized_weights**2))\n",
    " \n",
    "    \n",
    "    return J\n"
   ]
  },
  {
   "cell_type": "code",
   "execution_count": 41,
   "metadata": {},
   "outputs": [],
   "source": [
    "\n",
    "\n",
    "def gradientDescent(X, Y, weights, alpha, iterations,degree,regLambda):        \n",
    "    n=len(Y)\n",
    "    I=np.zeros((iterations,1),dtype=float)\n",
    "    J=np.zeros((iterations,1),dtype=float)\n",
    "    for k in range(iterations):\n",
    "        \n",
    "        Yhat=np.matmul( X,weights)                      #Hypothesis\n",
    "        err=Yhat-Y\n",
    "        d=np.matmul(err.T,X)  \n",
    "        g=  alpha*((1.0/n)*d)              #Derivative\n",
    "        g=g.T     #Itrations  \n",
    "        regularized_weights=np.concatenate((np.zeros((1,1)) , weights[1:,:]),axis=0)\n",
    "        g=g+ (regLambda/n)*regularized_weights \n",
    "        I[k]=k*1.0\n",
    "        J[k]=computeCost(weights,X,Y,regLambda)\n",
    "        weights=weights-g\n",
    "    \n",
    "    \n",
    "    \n",
    "    #plt.plot(I, J,color='r')\n",
    "    return weights\n"
   ]
  },
  {
   "cell_type": "code",
   "execution_count": 42,
   "metadata": {},
   "outputs": [],
   "source": [
    "def predict(weights,X,scaler,degree):\n",
    "    XS=scaler.transform(X)\n",
    "    pX=mapFeature(XS,degree)\n",
    "    Py=np.matmul(pX, weights)\n",
    "    return Py"
   ]
  },
  {
   "cell_type": "markdown",
   "metadata": {},
   "source": [
    "# Plotting With Different Regularization Parameters and degree"
   ]
  },
  {
   "cell_type": "code",
   "execution_count": 61,
   "metadata": {},
   "outputs": [],
   "source": [
    "def plotHypothesis(weights,X,Y,regLambda,scaler,degree):\n",
    "    plt.scatter(X,Y) \n",
    "    plt.title(\"Lambda=\"+str(regLambda)+\",Degree=\"+str(degree))\n",
    "    x_min, x_max = X[:, 0].min()-20 , X[:, 0].max()+20 \n",
    "    u = np.linspace(x_min, x_max, 100)\n",
    "    u.shape=(len(u),1) \n",
    "    v=predict(weights,u,scaler,degree) \n",
    "    plt.plot(u, v,color='r')"
   ]
  },
  {
   "cell_type": "code",
   "execution_count": 79,
   "metadata": {},
   "outputs": [
    {
     "data": {
      "image/png": "[encoded data removed]",
      "text/plain": [
       "<Figure size 720x216 with 3 Axes>"
      ]
     },
     "metadata": {
      "needs_background": "light"
     },
     "output_type": "display_data"
    }
   ],
   "source": [
    "import warnings\n",
    "warnings.filterwarnings('ignore')\n",
    "\n",
    "plt.figure(figsize=(10,3))\n",
    "regLambdaList=[15,.005,0]\n",
    "degreeList=[5,5,5]\n",
    "for i in range(len(regLambdaList)):\n",
    "    regLambda=regLambdaList[i]\n",
    "    degree=degreeList[i]\n",
    "   \n",
    "    Xn, scaler = featureNormalize(X)  # Normalize\n",
    "    Xp=mapFeature(Xn,degree)    #Polynomial\n",
    "    \n",
    "    weights=np.random.rand(Xp.shape[1], 1)\n",
    "    alpha=0.0001\n",
    "    iter=10000\n",
    "    #Without Lib   \n",
    "    weights = gradientDescent(Xp, Y, weights,alpha,iter,degree,regLambda)\n",
    "    plt.subplot(1 , 3, i+1)\n",
    "        #plt.axis('equal')\n",
    "    plotHypothesis(weights,X,Y,regLambda,scaler,degree)\n",
    "    plt.xlabel(\"Overfit (high variance)\" if i==2 else \"just right\" if i==1 else \"underfit (high bias)\" )\n",
    "\n",
    "plt.show()"
   ]
  },
  {
   "cell_type": "code",
   "execution_count": null,
   "metadata": {},
   "outputs": [],
   "source": []
  },
  {
   "cell_type": "code",
   "execution_count": null,
   "metadata": {},
   "outputs": [],
   "source": []
  }
 ],
 "metadata": {
  "kernelspec": {
   "display_name": "Python 3",
   "language": "python",
   "name": "python3"
  },
  "language_info": {
   "codemirror_mode": {
    "name": "ipython",
    "version": 3
   },
   "file_extension": ".py",
   "mimetype": "text/x-python",
   "name": "python",
   "nbconvert_exporter": "python",
   "pygments_lexer": "ipython3",
   "version": "3.7.3"
  }
 },
 "nbformat": 4,
 "nbformat_minor": 1
}

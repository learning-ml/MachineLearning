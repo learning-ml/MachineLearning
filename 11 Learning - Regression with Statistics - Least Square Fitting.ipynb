{
 "cells": [
  {
   "cell_type": "markdown",
   "metadata": {
    "_uuid": "fbb83ab53f187857890b7bcd2a13603b7586651e"
   },
   "source": [
    "# Regression with Statistics - Least Square Fitting\n",
    "\n"
   ]
  },
  {
   "cell_type": "markdown",
   "metadata": {},
   "source": [
    "# Least Square Method\n",
    "<p>\n",
    "We start with assumpution equation $y = m x+ c  $ (Called hypothesis) which can fit given data points.\n",
    "\n",
    "Best solution will be\n",
    "\n",
    "$ \\displaystyle m=r \\frac{\\sigma{y}}{\\sigma{x} } $ where r is coefficent of correlation ($r=\\frac{cov(x,y)}{\\sigma{ x} \\sigma {y} } $ )\n",
    "   \n",
    "    \n",
    " $ \\displaystyle c = \\bar y   -r\\frac{\\sigma{y}}{\\sigma{x}}\\bar x  $\n",
    "\n",
    "\n",
    "    \n",
    "\n"
   ]
  },
  {
   "cell_type": "markdown",
   "metadata": {},
   "source": [
    "# Proof"
   ]
  },
  {
   "cell_type": "markdown",
   "metadata": {},
   "source": [
    "We formulate Loss as following\n",
    "\n",
    "$Loss =  \\displaystyle \\sum _{i=1}^n \\left ( {y}_{i}- \\hat{y}_{i} \\right)^2$ where\n",
    "$\\hat{y}_{i} =m x_{i} + c $\n",
    "\n",
    "Now to minimize loss we need to apply maxima-minima method.\n",
    "\n",
    "https://www.mathsisfun.com/calculus/maxima-minima.html\n",
    "\n",
    "\n",
    "#### Loss Function SImplification\n",
    "$\\implies$\n",
    "\n",
    "$L(m,c) =  \\displaystyle \\sum _{i=1}^n \\left ({y}_{i}- m x_{i} - c \\right)^2$\n",
    "\n",
    "$     \\hspace{55px}     =  \\displaystyle \\sum _{i=1}^n ({y_i}^2+ m^2 {x_i}^2  + c^2 - 2 m x_i y_i - 2 c y_i + 2 c m x_i )$\n",
    "\n",
    "$    \\hspace{55px}   = \\sum{y_i^2} + \\sum{m^2x_i^2} +\\sum{c^2} - \\sum{2mx_iy_i} - \\sum{2cy_i} + \\sum{2cmx_i}$\n"
   ]
  },
  {
   "cell_type": "markdown",
   "metadata": {},
   "source": [
    "#### Derivative $\\implies$\n",
    "\n",
    "$\\displaystyle \\frac{\\partial L(m, c)}{\\partial m} = 2m \\sum x_i^2 -2 \\sum x_iy_i + 2c \\sum x_i$\n",
    "\n",
    "$\\displaystyle \\frac{\\partial L(m, c)}{\\partial c} = 2c \\sum 1 -2 \\sum y_i + 2m \\sum x_i$\n",
    "\n",
    "\n"
   ]
  },
  {
   "cell_type": "markdown",
   "metadata": {},
   "source": [
    "### For Optimal solution\n",
    "\n",
    "$\\displaystyle \\frac{\\partial L(m, c)}{\\partial m} =\\displaystyle \\frac{\\partial L(m, c)}{\\partial c}=0$\n",
    "\n",
    "### Solving for m\n",
    "\n",
    "$\\implies$\n",
    "\n",
    "$ 2mn \\sum x_i^2 -2n \\sum x_iy_i + 2cn \\sum x_i=0$\n",
    "\n",
    "$ 2cn\\sum x_i -2 \\sum y_i\\sum x_i + 2m \\sum x_i \\sum x_i=0$\n"
   ]
  },
  {
   "cell_type": "markdown",
   "metadata": {},
   "source": [
    "\n",
    "$\\implies$\n",
    "\n",
    "$ 2mn \\sum x_i^2 -2n \\sum x_iy_i +2 \\sum y_i\\sum x_i - 2m \\sum x_i \\sum x_i=0$\n",
    "\n",
    "$ 2mn \\sum x_i^2  - 2m \\sum x_i \\sum x_i=2n \\sum x_iy_i -2 \\sum y_i\\sum x_i$\n",
    "\n",
    "$ 2m(n \\sum x_i^2  -  \\sum x_i \\sum x_i)=2(n \\sum x_iy_i - \\sum y_i\\sum x_i)$\n",
    "\n",
    "$ \\displaystyle m=\\frac{n \\sum x_iy_i - \\sum y_i\\sum x_i}  { n \\sum x_i^2  - ( \\sum x_i )^2}$ \n",
    "\n",
    "$ \\displaystyle m=\\frac{ {(\\sum x_i y_i - \\frac{1}{n}\\sum x_i \\sum y_i)} } {  { (\\sum x_i^2 -  \\frac{1}{n} \\sum x_i \\sum x_i )}}$ \n",
    "\n",
    "\n",
    "\n",
    "\n",
    "$ \\displaystyle m=\\frac{ {(\\sum x_i y_i - \\frac{1}{n}\\sum x_i \\sum y_i + \\frac{1}{n} \\sum y_i \\sum x_i - n\\frac{1}{n}\\sum x_i \\frac{1}{n} \\sum y_i)} } {  { (\\sum x_i^2 + n \\frac{1}{n^2} (\\sum x_i)^2-  2 \\frac{1}{n} \\sum x_i \\sum x_i )}}$ \n",
    "\n",
    "\n",
    "$ \\displaystyle m=\\frac{ {(\\sum x_i y_i - \\bar x \\sum y_i + \\bar y \\sum x_i - n\\bar x\\bar y)} } {  { (\\sum x_i^2 + n\\bar x^2-  2\\bar x \\sum x_i )}}$ \n",
    "\n",
    "\n",
    "$ \\displaystyle m=\\frac{ \\sum{(x_i y_i - \\bar x y_i + x_i\\bar y - \\bar x\\bar y)} } {  \\sum{ (x_i^2 + \\bar x^2-  2x_i\\bar x )}}$ \n",
    "\n",
    "$ \\displaystyle m=\\frac{ \\sum{(x_i - \\bar x)(y_i - \\bar y)} } {  \\sum{ (x_i -  \\bar x )^2}}$ \n",
    "\n",
    "$ \\displaystyle m=\\frac{ \\sum{(x_i - \\bar x)(y_i - \\bar y)} } {  \\sum{ (x_i -  \\bar x )^2}}$ \n",
    "\n",
    "\n",
    "$ \\displaystyle m=\\frac{\\frac{\\sum{(x_i - \\bar x)(y_i - \\bar y)}}{n}}  {\\frac{ \\sum{ (x_i -  \\bar x )^2}} {n}}  $ \n",
    "\n",
    "$ \\displaystyle m=\\frac{cov(x,y)}{ \\sigma{x}^2 }   $ \n",
    "\n",
    "$ \\displaystyle m=\\frac{cov(x,y)}{ \\sigma{x}\\sigma{y} } \\frac{\\sigma{y}}{\\sigma{x} }   $ \n",
    "\n",
    "$ \\displaystyle m=r \\frac{\\sigma{y}}{\\sigma{x} } $ where r is coefficent of correlation ($r=\\frac{cov(x,y)}{\\sigma{ x} \\sigma {y} } $ )\n",
    "\n",
    "\n"
   ]
  },
  {
   "cell_type": "markdown",
   "metadata": {},
   "source": [
    "### Solving for c\n",
    "\n",
    "$\\implies$\n",
    "\n",
    "$ 2m\\sum x_i \\sum x_i^2 -2\\sum x_i \\sum x_iy_i + 2c\\sum x_i \\sum x_i=0$\n",
    "\n",
    "$ 2cn\\sum x_i^2 -2 \\sum y_i\\sum x_i^2 + 2m \\sum x_i \\sum x_i^2=0$\n",
    "\n",
    "$\\implies$\n",
    "\n",
    "\n",
    "\n",
    "$ 2cn\\sum x_i^2 -2 \\sum y_i\\sum x_i^2 =-2\\sum x_i \\sum x_iy_i + 2c\\sum x_i \\sum x_i$\n",
    "\n",
    "$ c(n\\sum x_i^2 -\\sum x_i \\sum x_i) =( \\sum y_i\\sum x_i^2-\\sum x_i \\sum x_iy_i ) $\n",
    "\n",
    "$ \\displaystyle c =\\frac{\\sum y_i\\sum x_i^2-\\sum x_i \\sum x_iy_i} {n\\sum x_i^2 -(\\sum x_i )^2}$\n",
    "\n",
    "$ \\displaystyle c =\\frac{1}{n}  \\frac{(n\\sum y_i\\sum x_i^2 -\\sum y_i(\\sum x_i )^2)   -(n\\sum x_i \\sum x_iy_i-\\sum y_i(\\sum x_i )^2)} {n\\sum x_i^2 -(\\sum x_i )^2}$\n",
    "\n",
    "$ \\displaystyle c =\\frac{1}{n}  \\frac{\\sum y_i(n\\sum x_i^2 -(\\sum x_i )^2)   -\\sum x_i(n \\sum x_iy_i-\\sum y_i\\sum x_i )} {n\\sum x_i^2 -(\\sum x_i )^2}$\n",
    "\n",
    "\n",
    "$ \\displaystyle c =\\frac{ (\\sum y_i   -m\\sum x_i)}{n}  $\n",
    "\n",
    "$ \\displaystyle c = \\bar y   -m\\bar x  $\n",
    "\n",
    "$ \\displaystyle c = \\bar y   -r\\frac{\\sigma{y}}{\\sigma{x}}\\bar x  $\n",
    "\n"
   ]
  },
  {
   "cell_type": "markdown",
   "metadata": {},
   "source": [
    "### Re-assemble the line\n",
    "\n",
    "$  \\displaystyle  y=mx +c$\n",
    "\n",
    "\n",
    "$  \\displaystyle y=r \\frac{\\sigma{y}}{\\sigma{x}}  x + \\bar y   -r\\frac{\\sigma{y}}{\\sigma{x}}\\bar x$\n",
    "\n",
    "$  \\displaystyle y-\\bar y =r \\frac{\\sigma{y}}{\\sigma{x}}  (x -\\bar x)$ where r is coefficent of correlation (\n",
    "    $r=\\frac{cov(x,y)}{\\sigma{ x} \\sigma {y} }$)\n",
    "\n",
    "OR\n",
    "\n",
    "\n",
    "$  \\displaystyle (y-\\bar y) =\\frac{cov(y,x)}{cov(x,x)} (x -\\bar x) $ \n"
   ]
  },
  {
   "cell_type": "markdown",
   "metadata": {},
   "source": [
    "# Finally Regression Equation of Y on X is \n",
    "   \n",
    "## $ \\displaystyle   y-\\bar{y}=r \\frac{\\sigma y}{\\sigma x} (x-\\bar{x})  $ where $ \\displaystyle r=\\frac{cov(x,y)}{\\sigma{ x} \\sigma {y} }$  "
   ]
  },
  {
   "cell_type": "code",
   "execution_count": 2,
   "metadata": {
    "_cell_guid": "b1076dfc-b9ad-4769-8c92-a6c4dae69d19",
    "_uuid": "8f2839f25d086af736a60e9eeb907d3b93b6e0e5"
   },
   "outputs": [],
   "source": [
    "import numpy as np \n",
    "import pandas as pd \n",
    "import matplotlib.pyplot as plt\n"
   ]
  },
  {
   "cell_type": "markdown",
   "metadata": {
    "_uuid": "48af0c24b890335a0ed6374004138ce723b8448d"
   },
   "source": [
    "<H1>Read Data from CSV"
   ]
  },
  {
   "cell_type": "code",
   "execution_count": 3,
   "metadata": {},
   "outputs": [
    {
     "data": {
      "text/html": [
       "<div>\n",
       "<style scoped>\n",
       "    .dataframe tbody tr th:only-of-type {\n",
       "        vertical-align: middle;\n",
       "    }\n",
       "\n",
       "    .dataframe tbody tr th {\n",
       "        vertical-align: top;\n",
       "    }\n",
       "\n",
       "    .dataframe thead th {\n",
       "        text-align: right;\n",
       "    }\n",
       "</style>\n",
       "<table border=\"1\" class=\"dataframe\">\n",
       "  <thead>\n",
       "    <tr style=\"text-align: right;\">\n",
       "      <th></th>\n",
       "      <th>X</th>\n",
       "      <th>Y</th>\n",
       "    </tr>\n",
       "  </thead>\n",
       "  <tbody>\n",
       "    <tr>\n",
       "      <td>0</td>\n",
       "      <td>-15.936758</td>\n",
       "      <td>2.134311</td>\n",
       "    </tr>\n",
       "    <tr>\n",
       "      <td>1</td>\n",
       "      <td>-29.152979</td>\n",
       "      <td>1.173257</td>\n",
       "    </tr>\n",
       "    <tr>\n",
       "      <td>2</td>\n",
       "      <td>36.189549</td>\n",
       "      <td>34.359109</td>\n",
       "    </tr>\n",
       "    <tr>\n",
       "      <td>3</td>\n",
       "      <td>37.492187</td>\n",
       "      <td>36.837955</td>\n",
       "    </tr>\n",
       "    <tr>\n",
       "      <td>4</td>\n",
       "      <td>-48.058829</td>\n",
       "      <td>2.808965</td>\n",
       "    </tr>\n",
       "  </tbody>\n",
       "</table>\n",
       "</div>"
      ],
      "text/plain": [
       "           X          Y\n",
       "0 -15.936758   2.134311\n",
       "1 -29.152979   1.173257\n",
       "2  36.189549  34.359109\n",
       "3  37.492187  36.837955\n",
       "4 -48.058829   2.808965"
      ]
     },
     "execution_count": 3,
     "metadata": {},
     "output_type": "execute_result"
    }
   ],
   "source": [
    "\n",
    "import requests\n",
    "import io\n",
    "url=\"https://manmohan291.s3.ap-south-1.amazonaws.com/LinearRegressionDS/LinearRegressionTrainingData.csv\"\n",
    "s=requests.get(url).content\n",
    "dfTrain=pd.read_csv(io.StringIO(s.decode('utf-8')))\n",
    "dfTrain.head()"
   ]
  },
  {
   "cell_type": "markdown",
   "metadata": {},
   "source": [
    "<h5> Visualize Data"
   ]
  },
  {
   "cell_type": "code",
   "execution_count": 4,
   "metadata": {},
   "outputs": [
    {
     "data": {
      "image/png": "[encoded data removed]",
      "text/plain": [
       "<Figure size 432x288 with 1 Axes>"
      ]
     },
     "metadata": {
      "needs_background": "light"
     },
     "output_type": "display_data"
    }
   ],
   "source": [
    "dfTrain.plot(x='X',y='Y',kind='scatter')\n",
    "plt.show()"
   ]
  },
  {
   "cell_type": "markdown",
   "metadata": {},
   "source": [
    "<h2>Extract Input Feature to <b>X </b>and Label to <b>y</b>"
   ]
  },
  {
   "cell_type": "code",
   "execution_count": 5,
   "metadata": {},
   "outputs": [],
   "source": [
    "\n",
    "X=dfTrain.values[:,:-1]  #Except Last Column\n",
    "Y=dfTrain.values[:,-1:] #Last Column\n"
   ]
  },
  {
   "cell_type": "markdown",
   "metadata": {},
   "source": [
    "## Mean\n",
    "\n",
    "$\\displaystyle \\bar x=\\frac{\\sum x}{n}$ and $\\displaystyle \\bar y=\\frac{\\sum y}{n}$"
   ]
  },
  {
   "cell_type": "code",
   "execution_count": 29,
   "metadata": {},
   "outputs": [
    {
     "name": "stdout",
     "output_type": "stream",
     "text": [
      "Manual= [-5.08542635] [11.21758933]\n",
      "Numpy Library= [-5.08542635] [11.21758933]\n"
     ]
    }
   ],
   "source": [
    "n=X.shape[0]\n",
    "\n",
    "\n",
    "#manual method  \n",
    "XM=np.sum(X,axis=0)/n    \n",
    "YM=np.sum(Y,axis=0)/n    \n",
    "print('Mean Manual=',XM,YM)\n",
    "\n",
    "#numpy libary method   \n",
    "XM= np.mean(X,axis=0)\n",
    "YM=np.mean(Y,axis=0)\n",
    "\n",
    "print('Mean using Numpy Library=',XM,YM)"
   ]
  },
  {
   "cell_type": "markdown",
   "metadata": {},
   "source": [
    "## Variance\n",
    "\n",
    "$\\displaystyle \\sigma x^2=\\frac{\\sum {(x- \\bar x)^2}}{n}$ and $\\displaystyle \\sigma y^2=\\frac{\\sum{( y- \\bar y)^2}}{n}$\n",
    "\n",
    "\n",
    "https://www.mathsisfun.com/data/standard-deviation.html\n"
   ]
  },
  {
   "cell_type": "code",
   "execution_count": 43,
   "metadata": {},
   "outputs": [
    {
     "name": "stdout",
     "output_type": "stream",
     "text": [
      "Variance Manual= [823.04327251] [156.07393147]\n",
      "Variance Numpy= [823.04327251] [156.07393147]\n"
     ]
    }
   ],
   "source": [
    "\n",
    "#manual method  \n",
    "XV=np.sum((X-XM)**2,axis=0)/n    \n",
    "YV=np.sum((Y-YM)**2,axis=0)/n        \n",
    "print('Variance Manual=',XV,YV)\n",
    "\n",
    "#numpy libary method   \n",
    "XV= np.var(X,axis=0)\n",
    "YV=np.var(Y,axis=0)\n",
    "print('Variance Numpy=',XV,YV)"
   ]
  },
  {
   "cell_type": "markdown",
   "metadata": {},
   "source": [
    "## Standard Deviations\n",
    "\n",
    "\n",
    "$\\displaystyle \\sigma x=\\sqrt{\\frac{\\sum {(x- \\bar x)^2}}{n}}$ and $\\displaystyle \\sigma y=\\sqrt{\\frac{\\sum{( y- \\bar y)^2}}{n}}$"
   ]
  },
  {
   "cell_type": "code",
   "execution_count": 44,
   "metadata": {},
   "outputs": [
    {
     "name": "stdout",
     "output_type": "stream",
     "text": [
      "Standard Deviation Manual= [28.68873076] [12.49295527]\n",
      "Standard Deviation Numpy= [28.68873076] [12.49295527]\n"
     ]
    }
   ],
   "source": [
    "\n",
    "#manual method  \n",
    "XS=np.sqrt(np.sum((X-XM)**2,axis=0)/n)    \n",
    "YS=np.sqrt(np.sum((Y-YM)**2,axis=0)/n)       \n",
    "print('Standard Deviation Manual=',XS,YS)\n",
    "\n",
    "#numpy libary method   \n",
    "XS= np.std(X,axis=0)\n",
    "YS=np.std(Y,axis=0)\n",
    "print('Standard Deviation Numpy=',XS,YS)"
   ]
  },
  {
   "cell_type": "markdown",
   "metadata": {},
   "source": [
    "## Covariance\n",
    "\n",
    "$\\displaystyle cov(x,y)=\\frac{\\sum {(x- \\bar x)( y- \\bar y)}}{n}$ \n",
    "\n",
    "Numpy gives covariance matrix with default degree of freedom (ddof=1)\n",
    "\n",
    "$ cov(XY)=\\frac{1}{n}\\left[ \\begin{matrix} (x-\\bar x)^2 & (x-\\bar x)(y-\\bar y)  \\\\ (y-\\bar y)(x-\\bar x) & (y-\\bar y)^2 \\end{matrix}\\right]$\n"
   ]
  },
  {
   "cell_type": "code",
   "execution_count": 60,
   "metadata": {},
   "outputs": [
    {
     "name": "stdout",
     "output_type": "stream",
     "text": [
      "Covariance Manual= [302.6982208]\n",
      "Covariance Matrix Numpy=\n",
      " [[823.04327251 302.6982208 ]\n",
      " [302.6982208  156.07393147]]\n",
      "Cov Matrix Numpy= 302.69822080371034\n"
     ]
    }
   ],
   "source": [
    "\n",
    "#manual method  \n",
    "covXY=np.sum((X-XM)*(Y-YM),axis=0)/(n)   \n",
    "       \n",
    "print('Covariance Manual=',covXY)\n",
    "\n",
    "#numpy libary method   \n",
    "covXY= np.cov(X.T,Y.T,ddof=0)   #ddof=0 because default degree of freedom=1 \n",
    "#numpy gives cov matrix\n",
    "print('Covariance Matrix Numpy=\\n',covXY)\n",
    "\n",
    "#numpy gives cov matrix\n",
    "print('Cov Matrix Numpy=',covXY[0][1])"
   ]
  },
  {
   "cell_type": "markdown",
   "metadata": {},
   "source": [
    "# Correlation\n",
    "\n",
    "$\\displaystyle corr(x,y)=\\frac{cov(x,y)}{\\sigma x\\sigma y}=\\frac{\\frac{\\sum {(x- \\bar x)( y- \\bar y)}}{n}}{\\sqrt{\\frac{\\sum {(x- \\bar x)^2}}{n}}\\sqrt{\\frac{\\sum{( y- \\bar y)^2}}{n}} } =\\frac{\\sum {(x- \\bar x)( y- \\bar y)}}{\\sqrt{\\sum {(x- \\bar x)^2} \\sum{( y- \\bar y)^2}} } $ \n",
    "\n",
    "\n",
    "\n",
    "https://www.mathsisfun.com/data/correlation.html\n"
   ]
  },
  {
   "cell_type": "code",
   "execution_count": 74,
   "metadata": {},
   "outputs": [
    {
     "name": "stdout",
     "output_type": "stream",
     "text": [
      "Correlation Manual= [0.84456552]\n",
      "Covariance Matrix Numpy=\n",
      " [[1.         0.84456552]\n",
      " [0.84456552 1.        ]]\n",
      "Cov Matrix Numpy= 0.8445655226700597\n"
     ]
    }
   ],
   "source": [
    "\n",
    "#manual method  \n",
    "corrXY=np.sum((X-XM)*(Y-YM),axis=0)/(np.sqrt(np.sum((X-XM)**2,axis=0) *np.sum((Y-YM)**2,axis=0))) \n",
    "       \n",
    "print('Correlation Manual=',corrXY)\n",
    "\n",
    "#numpy libary method   \n",
    "corrXY= np.corrcoef(X.T,Y.T) \n",
    "\n",
    "#numpy gives correlation matrix\n",
    "print('Covariance Matrix Numpy=\\n',corrXY)\n",
    "\n",
    "#numpy gives cov matrix\n",
    "print('Cov Matrix Numpy=',corrXY[0][1])"
   ]
  },
  {
   "cell_type": "markdown",
   "metadata": {},
   "source": [
    "# Training\n",
    "\n",
    "$ \\displaystyle   y-\\bar{y}=r \\frac{\\sigma y}{\\sigma x} (x-\\bar{x})  $ where $ \\displaystyle r=\\frac{cov(x,y)}{\\sigma{ x} \\sigma {y} }$  "
   ]
  },
  {
   "cell_type": "code",
   "execution_count": 103,
   "metadata": {},
   "outputs": [],
   "source": [
    "\n",
    "XM=np.mean(X)\n",
    "YM=np.mean(Y)\n",
    "#numpy libary method   \n",
    "covMatrix= np.cov(X.T,Y.T,ddof=0)   #ddof=0 because default degree of freedom=1 \n",
    "\n",
    "covXY=covMatrix[0][1]\n",
    "covXX=covMatrix[0][0]\n",
    "\n",
    "\n",
    "m=covXY/covXX\n",
    "c=YM-m*XM\n",
    "\n",
    "weights=np.array([[c],[m]])\n"
   ]
  },
  {
   "cell_type": "code",
   "execution_count": 104,
   "metadata": {},
   "outputs": [
    {
     "data": {
      "text/plain": [
       "array([[13.08790351],\n",
       "       [ 0.36777923]])"
      ]
     },
     "execution_count": 104,
     "metadata": {},
     "output_type": "execute_result"
    }
   ],
   "source": [
    "weights"
   ]
  },
  {
   "cell_type": "markdown",
   "metadata": {},
   "source": [
    "# Prediction"
   ]
  },
  {
   "cell_type": "code",
   "execution_count": 105,
   "metadata": {},
   "outputs": [],
   "source": [
    "def predict(X,weights):\n",
    "    inputX=np.concatenate((np.ones((X.shape[0],1)),X),axis=1) #Add Bias\n",
    "    pY=np.matmul(inputX, weights)\n",
    "    return pY"
   ]
  },
  {
   "cell_type": "markdown",
   "metadata": {},
   "source": [
    "### RMSE Evaluation"
   ]
  },
  {
   "cell_type": "code",
   "execution_count": 106,
   "metadata": {},
   "outputs": [],
   "source": [
    "def getRMSE(aY,pY):\n",
    "    Error=aY- pY\n",
    "    ErrorSqr=Error**2\n",
    "    MSE=ErrorSqr.mean()\n",
    "    RMSE=np.sqrt(MSE)\n",
    "    return RMSE"
   ]
  },
  {
   "cell_type": "markdown",
   "metadata": {
    "_uuid": "e631be520dc6c55d57d2ea7a14fba6d70adb5080"
   },
   "source": [
    "<h5>RMSE on Training Data"
   ]
  },
  {
   "cell_type": "code",
   "execution_count": 107,
   "metadata": {
    "_uuid": "1effd05b2188e6812731c860acf4bfa7d4290022"
   },
   "outputs": [
    {
     "name": "stdout",
     "output_type": "stream",
     "text": [
      "6.6893806124250865\n"
     ]
    }
   ],
   "source": [
    "pY=predict(X, weights)  # Predict with bias feature added\n",
    "print(getRMSE(Y, pY))"
   ]
  },
  {
   "cell_type": "markdown",
   "metadata": {
    "_uuid": "5a5cfbb33fa329b7b1a5c6861b00e0e3e6786387"
   },
   "source": [
    "### Plotting Hypothesis"
   ]
  },
  {
   "cell_type": "code",
   "execution_count": 108,
   "metadata": {
    "_uuid": "be5e746916c18fec15ab52ff4c05d96c403953a6"
   },
   "outputs": [
    {
     "data": {
      "image/png": "[encoded data removed]",
      "text/plain": [
       "<Figure size 432x288 with 1 Axes>"
      ]
     },
     "metadata": {
      "needs_background": "light"
     },
     "output_type": "display_data"
    }
   ],
   "source": [
    "x_min, x_max = X[:, 0].min() - 20, X[:, 0].max() + 20\n",
    "lineX = np.linspace(x_min, x_max, 100)\n",
    "lineX.shape=(len(lineX),1) \n",
    "lineY=predict(lineX, weights)  # Predict with bias feature added\n",
    "plt.scatter(X,Y)\n",
    "plt.plot(lineX, lineY,color='r')\n",
    "plt.show()"
   ]
  },
  {
   "cell_type": "markdown",
   "metadata": {},
   "source": [
    "# Least Squares for Multiple Linear Regression (MLR Model)\n",
    "<p>\n",
    "We start with assumpution equation $y = w_0+ w_1 x_1+.....+w_k x_k  $ (Called hypothesis) which can fit given data points.\n",
    "\n",
    "we can express it as\n",
    "\n",
    "$\\displaystyle y - \\bar y= \\sum _{j=1}^k {b_j (x_j-\\bar x_j)}  $\n",
    "\n",
    "\n",
    "Best solution will be solving k equations for finding $b_1,b_2,....,b_k$\n",
    "\n",
    "$\\displaystyle cov(y,x_1)= \\sum _{j=1}^k {b_j cov(x_j, x_1)}  $\n",
    "\n",
    "$\\displaystyle cov(y,x_2)= \\sum _{j=1}^k {b_j cov(x_j, x_2)}  $\n",
    "    \n",
    "...\n",
    "\n",
    "$\\displaystyle cov(y,x_k)= \\sum _{j=1}^k {b_j cov(x_j, x_k)}  $\n",
    "\n",
    "\n",
    "\n",
    "Solving it would be difficult, so we transform problem to matrix form for easy solution.\n",
    "\n"
   ]
  },
  {
   "cell_type": "markdown",
   "metadata": {},
   "source": [
    "# Solution to MLR Model using Normal Equation\n",
    "\n",
    "We start with assumpution equation $y = w_0+ w_1 x_1+.....+w_k x_k  $ (Called hypothesis) which can fit given data points.\n",
    "\n",
    "We formulate Loss as following\n",
    "\n",
    "$Loss =  \\displaystyle \\sum _{i=1}^n \\left ( {y}_{i}- \\hat{y}_{i} \\right)^2$ \n",
    "\n",
    "Now to minimize loss we need to apply maxima-minima method.\n",
    "\n",
    "\n",
    "Representing equation in matrix form.\n",
    "\n",
    "$ W=\\left[ \\begin{matrix} w_0   \\\\ w_1 \\\\ ...\\\\ w_k \\end{matrix}\\right]$ and $ x=\\left[ \\begin{matrix} 1   \\\\ x_1 \\\\ ...\\\\ x_k \\end{matrix}\\right]$ then\n",
    "\n",
    "Equation will be\n",
    "\n",
    "$y=W^T * x$\n",
    "\n",
    "and Data in matrix form\n",
    "\n",
    "$ Y=\\left[ \\begin{matrix} y_0   \\\\ y_1 \\\\ ...\\\\ y_n \\end{matrix}\\right]$ and $ X=\\left[ \\begin{matrix} 1   && x_{1_(1)} && ... && x_{k_(1)} \\\\\n",
    "1   && x_{1_(2)} && ... && x_{k_(2)} \\\\\n",
    "1   && ... && ... && ... \\\\\n",
    "1   && x_{1_(n)} && ...&& x_{k_(n)} \\end{matrix}\\right]$\n",
    "\n",
    "then Loss equation will be\n",
    "\n",
    "$Loss(W)= (XW-Y)^T (XW-Y)$\n",
    "\n",
    "$Loss(W)= ((XW)^T-Y^T) ( XW-Y)$\n",
    "\n",
    "$Loss(W)= (XW)^T XW -Y^T XW - (XW)^T Y + Y^T Y $\n",
    "\n",
    "$Loss(W)= W^T X^T X W - (XW)^T Y - (XW)^T Y + Y^T Y $\n",
    "\n",
    "$Loss(W)= W^T X^T X W - 2(XW)^T Y  + Y^T Y $\n",
    "\n",
    "### For Optimal solution\n",
    "$\\displaystyle \\frac{\\partial Loss(W)}{\\partial W}= 2 X^T X W - 2(X)^T Y =0 $\n",
    "\n",
    "\n",
    "\n",
    "$\\implies$\n",
    "\n",
    "$ 2 X^T X W = 2(X)^T Y  $\n",
    "\n",
    "# $   W =(X^T X)^{-1} (X)^T Y  $\n"
   ]
  },
  {
   "cell_type": "markdown",
   "metadata": {},
   "source": [
    "## Trying above problem with Normal Equation"
   ]
  },
  {
   "cell_type": "code",
   "execution_count": 111,
   "metadata": {},
   "outputs": [],
   "source": [
    "inputX=np.concatenate((np.ones((X.shape[0],1)),X),axis=1) #Adding Bias\n",
    "XTX=np.matmul(inputX.T,inputX)\n",
    "XTY=np.matmul(inputX.T,Y)\n",
    "XTX_INV=np.linalg.inv(XTX)\n",
    "weights=np.matmul(XTX_INV,XTY)"
   ]
  },
  {
   "cell_type": "markdown",
   "metadata": {},
   "source": [
    "#### Plotting"
   ]
  },
  {
   "cell_type": "code",
   "execution_count": 110,
   "metadata": {},
   "outputs": [
    {
     "data": {
      "image/png": "[encoded data removed]",
      "text/plain": [
       "<Figure size 432x288 with 1 Axes>"
      ]
     },
     "metadata": {
      "needs_background": "light"
     },
     "output_type": "display_data"
    }
   ],
   "source": [
    "x_min, x_max = X[:, 0].min() - 20, X[:, 0].max() + 20\n",
    "lineX = np.linspace(x_min, x_max, 100)\n",
    "lineX.shape=(len(lineX),1) \n",
    "lineY=predict(lineX, weights)  # Predict with bias feature added\n",
    "plt.scatter(X,Y)\n",
    "plt.plot(lineX, lineY,color='r')\n",
    "plt.show()"
   ]
  },
  {
   "cell_type": "code",
   "execution_count": null,
   "metadata": {},
   "outputs": [],
   "source": []
  }
 ],
 "metadata": {
  "kernelspec": {
   "display_name": "Python 3",
   "language": "python",
   "name": "python3"
  },
  "language_info": {
   "codemirror_mode": {
    "name": "ipython",
    "version": 3
   },
   "file_extension": ".py",
   "mimetype": "text/x-python",
   "name": "python",
   "nbconvert_exporter": "python",
   "pygments_lexer": "ipython3",
   "version": "3.7.3"
  }
 },
 "nbformat": 4,
 "nbformat_minor": 1
}

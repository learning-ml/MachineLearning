{
 "cells": [
  {
   "cell_type": "markdown",
   "metadata": {
    "_uuid": "fbb83ab53f187857890b7bcd2a13603b7586651e"
   },
   "source": [
    "<h1>Linear Regression </h1>   \n",
    "\n",
    "Read more at https://towardsdatascience.com/linear-regression-detailed-view-ea73175f6e86"
   ]
  },
  {
   "cell_type": "code",
   "execution_count": 2,
   "metadata": {
    "_cell_guid": "b1076dfc-b9ad-4769-8c92-a6c4dae69d19",
    "_uuid": "8f2839f25d086af736a60e9eeb907d3b93b6e0e5"
   },
   "outputs": [],
   "source": [
    "import numpy as np \n",
    "import pandas as pd \n",
    "import matplotlib.pyplot as plt\n",
    "import sklearn.datasets as ds"
   ]
  },
  {
   "cell_type": "markdown",
   "metadata": {
    "_uuid": "48af0c24b890335a0ed6374004138ce723b8448d"
   },
   "source": [
    "<H1>Read Data from CSV"
   ]
  },
  {
   "cell_type": "code",
   "execution_count": 5,
   "metadata": {},
   "outputs": [],
   "source": [
    "#dfTrain = pd.read_csv('../input/LinearRegressionDS/LinearRegressionTrainingData.csv')   #Training Dataset\n",
    "\n",
    "import requests\n",
    "import io\n",
    "url=\"https://manmohan291.s3.ap-south-1.amazonaws.com/LinearRegressionDS/LinearRegressionTrainingData.csv\"\n",
    "s=requests.get(url).content\n",
    "dfTrain=pd.read_csv(io.StringIO(s.decode('utf-8')))\n",
    "\n"
   ]
  },
  {
   "cell_type": "code",
   "execution_count": 6,
   "metadata": {},
   "outputs": [
    {
     "data": {
      "text/html": [
       "<div>\n",
       "<style scoped>\n",
       "    .dataframe tbody tr th:only-of-type {\n",
       "        vertical-align: middle;\n",
       "    }\n",
       "\n",
       "    .dataframe tbody tr th {\n",
       "        vertical-align: top;\n",
       "    }\n",
       "\n",
       "    .dataframe thead th {\n",
       "        text-align: right;\n",
       "    }\n",
       "</style>\n",
       "<table border=\"1\" class=\"dataframe\">\n",
       "  <thead>\n",
       "    <tr style=\"text-align: right;\">\n",
       "      <th></th>\n",
       "      <th>X</th>\n",
       "      <th>Y</th>\n",
       "    </tr>\n",
       "  </thead>\n",
       "  <tbody>\n",
       "    <tr>\n",
       "      <td>0</td>\n",
       "      <td>-15.936758</td>\n",
       "      <td>2.134311</td>\n",
       "    </tr>\n",
       "    <tr>\n",
       "      <td>1</td>\n",
       "      <td>-29.152979</td>\n",
       "      <td>1.173257</td>\n",
       "    </tr>\n",
       "    <tr>\n",
       "      <td>2</td>\n",
       "      <td>36.189549</td>\n",
       "      <td>34.359109</td>\n",
       "    </tr>\n",
       "    <tr>\n",
       "      <td>3</td>\n",
       "      <td>37.492187</td>\n",
       "      <td>36.837955</td>\n",
       "    </tr>\n",
       "    <tr>\n",
       "      <td>4</td>\n",
       "      <td>-48.058829</td>\n",
       "      <td>2.808965</td>\n",
       "    </tr>\n",
       "  </tbody>\n",
       "</table>\n",
       "</div>"
      ],
      "text/plain": [
       "           X          Y\n",
       "0 -15.936758   2.134311\n",
       "1 -29.152979   1.173257\n",
       "2  36.189549  34.359109\n",
       "3  37.492187  36.837955\n",
       "4 -48.058829   2.808965"
      ]
     },
     "execution_count": 6,
     "metadata": {},
     "output_type": "execute_result"
    }
   ],
   "source": [
    "dfTrain.head()"
   ]
  },
  {
   "cell_type": "markdown",
   "metadata": {},
   "source": [
    "<h5> Visualize Data"
   ]
  },
  {
   "cell_type": "code",
   "execution_count": 8,
   "metadata": {},
   "outputs": [
    {
     "data": {
      "image/png": "[encoded data removed]",
      "text/plain": [
       "<Figure size 432x288 with 1 Axes>"
      ]
     },
     "metadata": {
      "needs_background": "light"
     },
     "output_type": "display_data"
    }
   ],
   "source": [
    "dfTrain.plot(x='X',y='Y',kind='scatter')\n",
    "plt.show()"
   ]
  },
  {
   "cell_type": "markdown",
   "metadata": {},
   "source": [
    "# Training"
   ]
  },
  {
   "cell_type": "code",
   "execution_count": 10,
   "metadata": {},
   "outputs": [],
   "source": [
    "import sklearn.linear_model  as LR\n",
    "\n",
    "\n",
    "df_Features=dfTrain.iloc[:,0:1]\n",
    "df_Label=dfTrain.iloc[:,1:2]\n",
    "\n",
    "X=df_Features.values\n",
    "\n",
    "Y=df_Label.values\n",
    "\n",
    "RegObj=LR.LinearRegression(normalize=True).fit(X,Y)"
   ]
  },
  {
   "cell_type": "markdown",
   "metadata": {},
   "source": [
    "# Predict"
   ]
  },
  {
   "cell_type": "code",
   "execution_count": 11,
   "metadata": {},
   "outputs": [
    {
     "data": {
      "text/plain": [
       "array([[14.92679966]])"
      ]
     },
     "execution_count": 11,
     "metadata": {},
     "output_type": "execute_result"
    }
   ],
   "source": [
    "RegObj.predict([[5]])"
   ]
  },
  {
   "cell_type": "markdown",
   "metadata": {},
   "source": [
    "# Plotting"
   ]
  },
  {
   "cell_type": "code",
   "execution_count": 12,
   "metadata": {},
   "outputs": [
    {
     "data": {
      "image/png": "[encoded data removed]",
      "text/plain": [
       "<Figure size 432x288 with 1 Axes>"
      ]
     },
     "metadata": {
      "needs_background": "light"
     },
     "output_type": "display_data"
    }
   ],
   "source": [
    "plt.scatter(X,Y) \n",
    "x_min, x_max = X[:, 0].min()-1 , X[:, 0].max()+1 \n",
    "u = np.linspace(x_min, x_max, 100)\n",
    "\n",
    "u.shape=(len(u),1)\n",
    "newx=u\n",
    "newy=RegObj.predict(newx)\n",
    "\n",
    "plt.plot(newx,newy,color='r') \n",
    "plt.show()"
   ]
  },
  {
   "cell_type": "markdown",
   "metadata": {},
   "source": [
    "# RMSE Evaluation"
   ]
  },
  {
   "cell_type": "code",
   "execution_count": 13,
   "metadata": {},
   "outputs": [
    {
     "name": "stdout",
     "output_type": "stream",
     "text": [
      "RMSE=6.69\n"
     ]
    }
   ],
   "source": [
    "from sklearn.metrics import mean_squared_error\n",
    "pY=RegObj.predict(X)\n",
    "mse=mean_squared_error(Y, pY)\n",
    "rmse=np.sqrt(mse)\n",
    "print(\"RMSE={0:.2f}\".format(rmse))"
   ]
  },
  {
   "cell_type": "markdown",
   "metadata": {},
   "source": [
    "# Implement your own RMSE"
   ]
  },
  {
   "cell_type": "code",
   "execution_count": 14,
   "metadata": {},
   "outputs": [],
   "source": [
    "def getRMSE(aY,pY):\n",
    "    Error=aY- pY\n",
    "    ErrorSqr=Error**2\n",
    "    MSE=ErrorSqr.mean()\n",
    "    RMSE=np.sqrt(MSE)\n",
    "    return RMSE"
   ]
  },
  {
   "cell_type": "markdown",
   "metadata": {
    "_uuid": "e631be520dc6c55d57d2ea7a14fba6d70adb5080"
   },
   "source": [
    "<h5>RMSE on Training Data"
   ]
  },
  {
   "cell_type": "code",
   "execution_count": 15,
   "metadata": {
    "_uuid": "1effd05b2188e6812731c860acf4bfa7d4290022"
   },
   "outputs": [
    {
     "name": "stdout",
     "output_type": "stream",
     "text": [
      "RMSE=6.69\n"
     ]
    }
   ],
   "source": [
    "pY=RegObj.predict(X)\n",
    "rmse=getRMSE(Y, pY)\n",
    "print(\"RMSE={0:.2f}\".format(rmse))"
   ]
  },
  {
   "cell_type": "code",
   "execution_count": null,
   "metadata": {},
   "outputs": [],
   "source": []
  }
 ],
 "metadata": {
  "kernelspec": {
   "display_name": "Python 3",
   "language": "python",
   "name": "python3"
  },
  "language_info": {
   "codemirror_mode": {
    "name": "ipython",
    "version": 3
   },
   "file_extension": ".py",
   "mimetype": "text/x-python",
   "name": "python",
   "nbconvert_exporter": "python",
   "pygments_lexer": "ipython3",
   "version": "3.7.3"
  }
 },
 "nbformat": 4,
 "nbformat_minor": 1
}

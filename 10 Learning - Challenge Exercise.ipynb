{
 "cells": [
  {
   "cell_type": "markdown",
   "metadata": {},
   "source": [
    "# Challenge  Exercise - Gradient Decent"
   ]
  },
  {
   "cell_type": "markdown",
   "metadata": {},
   "source": [
    "1. Cylinder Volume Prediction\n",
    "     As a chanllage we gernerated Training data with some radius and height using formula \n",
    "     $volume=\\pi r^2 h$   where r is radius and h is height.\n",
    "     Now you will train using either algo and will try to predict new data.\n",
    "     \n",
    "     Using algo predict volume for following values\n",
    "     radius=189\n",
    "     height=177\n",
    "     \n",
    "     Volume should be approx 19863087.12\n",
    "     \n",
    "     Data is available at https://manmohan291.s3.ap-south-1.amazonaws.com/LinearRegressionDS/CylinderVolumeData.zip\n",
    "     \n",
    "     Read the file on the fly and unzip it in memory (without storing the file on disk). \n",
    "     "
   ]
  },
  {
   "cell_type": "markdown",
   "metadata": {},
   "source": [
    "2.  Being itrative, using Gradient Decent, we can find Square Root (or $n^th$) of any number without formula.\n",
    "    \n",
    "    Using Gredient Decent, Find sqare root of 10 i.e. $\\displaystyle \\sqrt{10}$\n",
    "    "
   ]
  },
  {
   "cell_type": "markdown",
   "metadata": {},
   "source": [
    "<!--\n",
    "import requests\n",
    "import io\n",
    "import zipfile\n",
    "import pandas as pd\n",
    "url=\"https://manmohan291.s3.ap-south-1.amazonaws.com/LinearRegressionDS/CylinderVolumeData.zip\"\n",
    "s=requests.get(url).content\n",
    "df=pd.read_csv(io.BytesIO(s),compression='zip')\n",
    "w=7\n",
    "hx=w**2\n",
    "X=[]\n",
    "Y=100\n",
    "costs=[]\n",
    "for i in range(1000): \n",
    "    yhat=w**2\n",
    "    cost=(yhat-Y)**2\n",
    "    dw=2*(yhat-Y) *(2*w)\n",
    "    w=w-0.001*dw    \n",
    "    costs.append(cost)\n",
    "-->\n"
   ]
  },
  {
   "cell_type": "code",
   "execution_count": null,
   "metadata": {},
   "outputs": [],
   "source": []
  }
 ],
 "metadata": {
  "kernelspec": {
   "display_name": "Python 3",
   "language": "python",
   "name": "python3"
  },
  "language_info": {
   "codemirror_mode": {
    "name": "ipython",
    "version": 3
   },
   "file_extension": ".py",
   "mimetype": "text/x-python",
   "name": "python",
   "nbconvert_exporter": "python",
   "pygments_lexer": "ipython3",
   "version": "3.7.3"
  }
 },
 "nbformat": 4,
 "nbformat_minor": 2
}

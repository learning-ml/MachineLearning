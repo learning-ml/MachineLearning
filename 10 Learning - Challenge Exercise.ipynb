{
 "cells": [
  {
   "cell_type": "markdown",
   "metadata": {},
   "source": [
    "# Challenge  Exercise - Gradient Decent"
   ]
  },
  {
   "cell_type": "markdown",
   "metadata": {},
   "source": [
    "## 1. \n",
    "\n",
    "Cylinder Volume Prediction\n",
    "     \n",
    "As a chanllage we gernerated Training data with some radius and height using formula \n",
    "     $volume=\\pi r^2 h$   where r is radius and h is height.\n",
    "     Now you will train using either algo and will try to predict new data.\n",
    "     \n",
    " Using algo predict volume for following values\n",
    " radius=189\n",
    " height=177\n",
    "\n",
    " Volume should be approx 19863087.12\n",
    "\n",
    " Data is available at https://manmohan291.s3.ap-south-1.amazonaws.com/LinearRegressionDS/CylinderVolumeData.zip\n",
    "\n",
    " Read the file on the fly and unzip it in memory (without storing the file on disk). \n",
    "     "
   ]
  },
  {
   "cell_type": "markdown",
   "metadata": {},
   "source": [
    "### Answer"
   ]
  },
  {
   "cell_type": "code",
   "execution_count": 8,
   "metadata": {},
   "outputs": [
    {
     "name": "stdout",
     "output_type": "stream",
     "text": [
      "Volume for Radius=189 and height=177 is  [[19863087.12]]\n"
     ]
    }
   ],
   "source": [
    "import numpy as np \n",
    "import pandas as pd \n",
    "\n",
    "\n",
    "def mapFeature(X,degree):\n",
    "    sz=X.shape[1]\n",
    "    if (sz==2):\n",
    "        sz=(degree+1)*(degree+2)/2\n",
    "        sz=int(sz)\n",
    "    else:\n",
    "         sz=degree+1\n",
    "    out=np.ones((X.shape[0],sz))     #Adding Bias W0\n",
    "\n",
    "    sz=X.shape[1]\n",
    "    if (sz==2):\n",
    "        X1=X[:, 0:1]\n",
    "        X2=X[:, 1:2]\n",
    "        col=1\n",
    "        for i in range(1,degree+1):        \n",
    "            for j in range(0,i+1):\n",
    "                out[:,col:col+1]= np.multiply(np.power(X1,i-j),np.power(X2,j))    \n",
    "                col+=1\n",
    "        return out\n",
    "    else:\n",
    "        for i in range(1,degree+1):        \n",
    "            out[:,i:i+1]= np.power(X,i)\n",
    "    \n",
    "    return out\n",
    "\n",
    "import requests\n",
    "import io\n",
    "\n",
    "#Get Data\n",
    "###########################\n",
    "url=\"https://manmohan291.s3.ap-south-1.amazonaws.com/LinearRegressionDS/CylinderVolumeData.zip\"\n",
    "s=requests.get(url).content\n",
    "df=pd.read_csv(io.BytesIO(s),compression='zip')\n",
    "df_Features=df.loc[:,['radius','height']]\n",
    "df_Label=df.loc[:,['volume']]\n",
    "X=df_Features.values\n",
    "Y=df_Label.values\n",
    "\n",
    "#Preprocessing\n",
    "###########################\n",
    "degree=3\n",
    "SMean=np.mean(X,axis=0)    \n",
    "SDev=np.std(X,axis=0)\n",
    "inputX=(X-SMean)/SDev  #Standardize\n",
    "inputX=mapFeature(inputX,degree) \n",
    "Y=Y/100000  #Scale change\n",
    "\n",
    "#Init\n",
    "###########################\n",
    "batchSize=len(Y)         #no of Examples\n",
    "iteration = 10000\n",
    "alpha = 0.1\n",
    "featureCount=inputX.shape[1] \n",
    "weights=np.zeros((featureCount, 1)) #initialize Weight Paramters\n",
    "\n",
    "#Learning\n",
    "###########################\n",
    "for k in range(iteration):   \n",
    "    #Hypothesis\n",
    "    hypothesis=np.matmul( inputX,weights)           \n",
    "    #Loss\n",
    "    loss=hypothesis-Y  \n",
    "    #derivative\n",
    "    dW=np.matmul(inputX.T,loss)  #Derivative\n",
    "    weights=weights -  (alpha/batchSize)*dW     #Normal  \n",
    "\n",
    "#Predict\n",
    "###########################\n",
    "pX=np.array([[189,177]])  \n",
    "pX=(pX-SMean)/SDev # Normalize with orgininal  Mean and Std. Dev\n",
    "pX=mapFeature(pX,degree) \n",
    "pY=np.matmul(pX, weights)   \n",
    "pY=np.round(pY*100000,2)  # Rescaled Since we had scaled Y while training\n",
    "\n",
    "print(\"Volume for Radius=189 and height=177 is \", pY)"
   ]
  },
  {
   "cell_type": "markdown",
   "metadata": {},
   "source": [
    "# 2.  \n",
    "Being itrative, using Gradient Decent, we can find Square Root (or $n^th$) of any number without formula.\n",
    "\n",
    "Using Gredient Decent, Find sqare root of 10 i.e. $\\displaystyle \\sqrt{10}$\n",
    "    "
   ]
  },
  {
   "cell_type": "markdown",
   "metadata": {},
   "source": [
    "### Answer\n",
    "\n",
    "Transform Hypothesis $y=w_0+w_1x$ so that $y=10$ for any $x$\n",
    "\n",
    "y is same for any x which implies $w_1$ must be 0 and let $w^2=w_0$\n",
    "\n",
    "Now Hypothesis becomes $y=w^2$\n",
    "\n",
    "##### Loss function will\n",
    " $L(w_0)= (y-\\hat y)^2$\n",
    " \n",
    " $L(w_0)= (10-w^2)^2$\n",
    "\n",
    "\n",
    "To find best $w_0$  we can use gradient decent like following \n"
   ]
  },
  {
   "cell_type": "code",
   "execution_count": 24,
   "metadata": {},
   "outputs": [
    {
     "name": "stdout",
     "output_type": "stream",
     "text": [
      "[[3.15834276]] Appprox \n",
      " [[3.16227766]] Actual\n"
     ]
    }
   ],
   "source": [
    "import numpy as np \n",
    "import pandas as pd \n",
    "\n",
    "\n",
    "#Get Data\n",
    "###########################\n",
    "X=np.array([[0]])      #No input/training data provided\n",
    "Y=np.array([[10]])   #let Y be 10  for all case\n",
    "\n",
    "\n",
    "#Init\n",
    "batchSize=len(Y)         #no of Examples\n",
    "iteration = 100\n",
    "alpha = 0.001\n",
    "featureCount=X.shape[1]   #only bias feature\n",
    "weights=np.ones((1, 1)) #initialize Weights\n",
    "\n",
    "\n",
    "hx=weights**2\n",
    "\n",
    "\n",
    "#Learning\n",
    "###########################\n",
    "for k in range(iteration):\n",
    "    #Hypothesis\n",
    "    yhat=weights**2   \n",
    "    \n",
    "    #Loss\n",
    "    loss=(yhat-Y)**2  \n",
    "    \n",
    "    #derivative\n",
    "    dW=2*(yhat-Y) *(2*weights)\n",
    "   \n",
    "    weights=weights -  (alpha/batchSize)*dW     \n",
    "\n",
    "\n",
    "print(weights,\"Appprox\",\"\\n\",np.sqrt(Y),\"Actual\")"
   ]
  }
 ],
 "metadata": {
  "kernelspec": {
   "display_name": "Python 3",
   "language": "python",
   "name": "python3"
  },
  "language_info": {
   "codemirror_mode": {
    "name": "ipython",
    "version": 3
   },
   "file_extension": ".py",
   "mimetype": "text/x-python",
   "name": "python",
   "nbconvert_exporter": "python",
   "pygments_lexer": "ipython3",
   "version": "3.7.3"
  }
 },
 "nbformat": 4,
 "nbformat_minor": 2
}
